{
 "cells": [
  {
   "cell_type": "code",
   "execution_count": 1,
   "metadata": {},
   "outputs": [
    {
     "name": "stdout",
     "output_type": "stream",
     "text": [
      "Area = 1606483\n",
      "Length = 3842356\n"
     ]
    }
   ],
   "source": [
    "f = open(\"Day2_Data_pc.txt\")\n",
    "\n",
    "data = [line.split(\"x\") for line in f.read().split(\"\\n\")]\n",
    "\n",
    "area = 0\n",
    "length = 0\n",
    "\n",
    "for j in data:\n",
    "    i = [int(el) for el in j] \n",
    "    p = [i[0]*i[1]*2, i[0]*i[2]*2, i[1]*i[2]*2]    \n",
    "    p = sum(p) + min(p)/2\n",
    "    area += p\n",
    "\n",
    "    i.sort()\n",
    "    length += 2*(i[0] + i[1]) + i[0]*i[1]*i[2]\n",
    "    \n",
    "    \n",
    "print('Area = %i' %area)   \n",
    "print('Length = %i' %length)\n"
   ]
  },
  {
   "cell_type": "code",
   "execution_count": null,
   "metadata": {
    "collapsed": true
   },
   "outputs": [],
   "source": []
  }
 ],
 "metadata": {
  "kernelspec": {
   "display_name": "Python 3",
   "language": "python",
   "name": "python3"
  },
  "language_info": {
   "codemirror_mode": {
    "name": "ipython",
    "version": 3
   },
   "file_extension": ".py",
   "mimetype": "text/x-python",
   "name": "python",
   "nbconvert_exporter": "python",
   "pygments_lexer": "ipython3",
   "version": "3.6.3"
  }
 },
 "nbformat": 4,
 "nbformat_minor": 2
}
