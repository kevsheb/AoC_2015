{
 "cells": [
  {
   "cell_type": "code",
   "execution_count": 11,
   "metadata": {},
   "outputs": [
    {
     "name": "stdout",
     "output_type": "stream",
     "text": [
      "Position = 1797\n",
      "Floor = 280\n"
     ]
    }
   ],
   "source": [
    "# Read in Data\n",
    "f = open(\"Day1_Data_pc.txt\")\n",
    "\n",
    "# Iterate over and count based on input\n",
    "floor = 0\n",
    "first = True\n",
    "for j, i in enumerate(f.read()):\n",
    "    if i == \"(\":\n",
    "        floor += 1\n",
    "    else:\n",
    "        floor -= 1\n",
    "\n",
    "    # Check to see if floor is -1\n",
    "    if floor == -1 and first == True:\n",
    "        print('Position = %s' %(j + 1))\n",
    "        first = False\n",
    "\n",
    "print('Floor = %s' %floor)"
   ]
  },
  {
   "cell_type": "code",
   "execution_count": null,
   "metadata": {
    "collapsed": true
   },
   "outputs": [],
   "source": []
  }
 ],
 "metadata": {
  "kernelspec": {
   "display_name": "Python 3",
   "language": "python",
   "name": "python3"
  },
  "language_info": {
   "codemirror_mode": {
    "name": "ipython",
    "version": 3
   },
   "file_extension": ".py",
   "mimetype": "text/x-python",
   "name": "python",
   "nbconvert_exporter": "python",
   "pygments_lexer": "ipython3",
   "version": "3.6.3"
  }
 },
 "nbformat": 4,
 "nbformat_minor": 2
}
